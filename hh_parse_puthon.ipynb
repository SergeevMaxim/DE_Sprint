{
 "cells": [
  {
   "cell_type": "code",
   "execution_count": 1,
   "metadata": {},
   "outputs": [],
   "source": [
    "%matplotlib inline\n",
    "import requests\n",
    "import pandas as pd\n",
    "import numpy as np\n",
    "from pandas import json_normalize \n",
    "from urllib.parse import urlencode\n",
    "from concurrent.futures import ThreadPoolExecutor\n",
    "from tqdm import tqdm\n",
    "import re\n",
    "import json\n",
    "#nltk.download('stopwords')"
   ]
  },
  {
   "cell_type": "markdown",
   "metadata": {},
   "source": [
    "# 1"
   ]
  },
  {
   "cell_type": "code",
   "execution_count": 2,
   "metadata": {},
   "outputs": [],
   "source": [
    "API_BASE_URL = \"https://api.hh.ru/vacancies/\"\n",
    "DICT_KEYS = (\n",
    "        \"Ids\",\n",
    "        \"Employer\",\n",
    "        \"area\",\n",
    "        \"address\",\n",
    "        \"Name\",\n",
    "        \"currency\",\n",
    "        \"From\",\n",
    "        \"To\",\n",
    "        \"Experience\",\n",
    "        \"Schedule\",\n",
    "        \"Keys\",\n",
    "        \"Description\",\n",
    "    )\n",
    "rates = {\n",
    "    \"USD\": 0.016,\n",
    "    \"EUR\": 0.016,\n",
    "    \"UAH\": 0.6,\n",
    "    \"RUR\": 1\n",
    "  }\n",
    "query={\"text\": \"python разработчик\", \"per_page\": 10}"
   ]
  },
  {
   "cell_type": "code",
   "execution_count": 3,
   "metadata": {},
   "outputs": [],
   "source": [
    "\n",
    "def сlean_tags(html_text: str) -> str:\n",
    "    pattern = re.compile(\"<.*?>\")\n",
    "    return re.sub(pattern, \"\", html_text)    \n",
    "    \n",
    "    "
   ]
  },
  {
   "cell_type": "code",
   "execution_count": 4,
   "metadata": {},
   "outputs": [
    {
     "name": "stdout",
     "output_type": "stream",
     "text": [
      "200\n",
      "4760\n"
     ]
    }
   ],
   "source": [
    "target_url = API_BASE_URL + \"?\" + urlencode(query)\n",
    "num_pages = requests.get(target_url).json()[\"pages\"]\n",
    "num_vacancies = requests.get(target_url).json()[\"found\"]\n",
    "print(str(num_pages)+'\\n'+str(num_vacancies))"
   ]
  },
  {
   "cell_type": "markdown",
   "metadata": {},
   "source": [
    "### Collect vacancy IDs"
   ]
  },
  {
   "cell_type": "code",
   "execution_count": 5,
   "metadata": {},
   "outputs": [],
   "source": [
    "ids = []\n",
    "for idx in range(num_pages + 1):\n",
    "    response = requests.get(target_url, {\"page\": idx})\n",
    "    data = response.json()\n",
    "    if \"items\" not in data:\n",
    "        break\n",
    "    ids.extend(x[\"id\"] for x in data[\"items\"])"
   ]
  },
  {
   "cell_type": "code",
   "execution_count": 6,
   "metadata": {},
   "outputs": [],
   "source": [
    "def get_vacancy(vacancy_id: str):\n",
    "    url = f\"{API_BASE_URL}{vacancy_id}\"\n",
    "    vacancy = requests.api.get(url).json()\n",
    "    salary = vacancy.get(\"salary\")\n",
    "    slr = {\"currency\":None,\"from\": None, \"to\": None}\n",
    "    if salary:\n",
    "         for k, v in slr.items():\n",
    "            if vacancy[\"salary\"][k] is not None:\n",
    "                slr[k] = salary[k]\n",
    "    return (            \n",
    "        vacancy_id,\n",
    "        vacancy[\"employer\"][\"name\"],\n",
    "        vacancy[\"area\"][\"name\"],\n",
    "        vacancy[\"address\"],\n",
    "        vacancy[\"name\"],\n",
    "        slr[\"currency\"],\n",
    "        slr[\"from\"],\n",
    "        slr[\"to\"],\n",
    "        vacancy[\"experience\"][\"name\"],\n",
    "        vacancy[\"schedule\"][\"name\"],\n",
    "        [el[\"name\"] for el in vacancy[\"key_skills\"]],\n",
    "        сlean_tags(vacancy[\"description\"])\n",
    "    )"
   ]
  },
  {
   "cell_type": "code",
   "execution_count": 7,
   "metadata": {},
   "outputs": [
    {
     "name": "stderr",
     "output_type": "stream",
     "text": [
      "Get data via\n"
     ]
    }
   ],
   "source": [
    "jobs_list = []\n",
    "with ThreadPoolExecutor(max_workers=1) as executor:\n",
    "    for vacancy in tqdm(\n",
    "        executor.map(get_vacancy, ids),\n",
    "        desc=\"Get data via HH API\",\n",
    "        ncols=12,\n",
    "        total=len(ids),\n",
    "    ):\n",
    "        #print(vacancy)\n",
    "        jobs_list.append(vacancy)\n",
    "\n",
    "unzipped_list = list(zip(*jobs_list))"
   ]
  },
  {
   "cell_type": "code",
   "execution_count": 8,
   "metadata": {},
   "outputs": [],
   "source": [
    "result = {}\n",
    "for idx, key in enumerate(DICT_KEYS):\n",
    "    result[key] = unzipped_list[idx]"
   ]
  },
  {
   "cell_type": "code",
   "execution_count": 9,
   "metadata": {},
   "outputs": [],
   "source": [
    "df = pd.DataFrame(data = result)"
   ]
  },
  {
   "cell_type": "code",
   "execution_count": 10,
   "metadata": {},
   "outputs": [
    {
     "data": {
      "text/html": [
       "<div>\n",
       "<style scoped>\n",
       "    .dataframe tbody tr th:only-of-type {\n",
       "        vertical-align: middle;\n",
       "    }\n",
       "\n",
       "    .dataframe tbody tr th {\n",
       "        vertical-align: top;\n",
       "    }\n",
       "\n",
       "    .dataframe thead th {\n",
       "        text-align: right;\n",
       "    }\n",
       "</style>\n",
       "<table border=\"1\" class=\"dataframe\">\n",
       "  <thead>\n",
       "    <tr style=\"text-align: right;\">\n",
       "      <th></th>\n",
       "      <th>Ids</th>\n",
       "      <th>Employer</th>\n",
       "      <th>area</th>\n",
       "      <th>address</th>\n",
       "      <th>Name</th>\n",
       "      <th>currency</th>\n",
       "      <th>From</th>\n",
       "      <th>To</th>\n",
       "      <th>Experience</th>\n",
       "      <th>Schedule</th>\n",
       "      <th>Keys</th>\n",
       "      <th>Description</th>\n",
       "    </tr>\n",
       "  </thead>\n",
       "  <tbody>\n",
       "    <tr>\n",
       "      <th>0</th>\n",
       "      <td>73112663</td>\n",
       "      <td>ЛОТОС, инжиниринговая компания</td>\n",
       "      <td>Екатеринбург</td>\n",
       "      <td>None</td>\n",
       "      <td>Backend-разработчик на Python</td>\n",
       "      <td>RUR</td>\n",
       "      <td>60000.0</td>\n",
       "      <td>NaN</td>\n",
       "      <td>От 1 года до 3 лет</td>\n",
       "      <td>Удаленная работа</td>\n",
       "      <td>[Python, HTML, CSS, Bootstrap, MySQL, Git, Fla...</td>\n",
       "      <td>— Вы хотите принять участие в реализации проек...</td>\n",
       "    </tr>\n",
       "    <tr>\n",
       "      <th>1</th>\n",
       "      <td>70705466</td>\n",
       "      <td>Фабрика Решений</td>\n",
       "      <td>Москва</td>\n",
       "      <td>None</td>\n",
       "      <td>Python-разработчик (Django, DRF)</td>\n",
       "      <td>RUR</td>\n",
       "      <td>60000.0</td>\n",
       "      <td>220000.0</td>\n",
       "      <td>От 3 до 6 лет</td>\n",
       "      <td>Удаленная работа</td>\n",
       "      <td>[Python, Django Framework, PostgreSQL, SQL, CS...</td>\n",
       "      <td>Привет! Мы, студия fabrique, ищем классного ju...</td>\n",
       "    </tr>\n",
       "    <tr>\n",
       "      <th>2</th>\n",
       "      <td>73095539</td>\n",
       "      <td>Богач Евгений Александрович</td>\n",
       "      <td>Москва</td>\n",
       "      <td>{'city': 'Люберцы', 'street': 'микрорайон Горо...</td>\n",
       "      <td>Программист Python</td>\n",
       "      <td>RUR</td>\n",
       "      <td>60000.0</td>\n",
       "      <td>100000.0</td>\n",
       "      <td>От 1 года до 3 лет</td>\n",
       "      <td>Полный день</td>\n",
       "      <td>[Python, SQL, Linux, PostgreSQL, Git, ООП, NoSQL]</td>\n",
       "      <td>Требуется:программист в отдел разработки, плат...</td>\n",
       "    </tr>\n",
       "    <tr>\n",
       "      <th>3</th>\n",
       "      <td>72313102</td>\n",
       "      <td>Рекруто</td>\n",
       "      <td>Санкт-Петербург</td>\n",
       "      <td>{'city': 'Санкт-Петербург', 'street': 'набереж...</td>\n",
       "      <td>Intern / Junior Python backend developer</td>\n",
       "      <td>RUR</td>\n",
       "      <td>NaN</td>\n",
       "      <td>60000.0</td>\n",
       "      <td>Нет опыта</td>\n",
       "      <td>Гибкий график</td>\n",
       "      <td>[Python, Celery, Docker, JavaScript, RabbitMQ,...</td>\n",
       "      <td>Python был, есть и будет, и у вас появилась ре...</td>\n",
       "    </tr>\n",
       "    <tr>\n",
       "      <th>4</th>\n",
       "      <td>71681150</td>\n",
       "      <td>Бизнес-Азимут</td>\n",
       "      <td>Москва</td>\n",
       "      <td>None</td>\n",
       "      <td>Python-разработчик (Middle+/Senior)</td>\n",
       "      <td>RUR</td>\n",
       "      <td>320000.0</td>\n",
       "      <td>350000.0</td>\n",
       "      <td>От 3 до 6 лет</td>\n",
       "      <td>Удаленная работа</td>\n",
       "      <td>[Python, Hadoop, Spark, Hive, SQL]</td>\n",
       "      <td>Наша компания специализируется на аутсорсинге ...</td>\n",
       "    </tr>\n",
       "  </tbody>\n",
       "</table>\n",
       "</div>"
      ],
      "text/plain": [
       "        Ids                        Employer             area  \\\n",
       "0  73112663  ЛОТОС, инжиниринговая компания     Екатеринбург   \n",
       "1  70705466                 Фабрика Решений           Москва   \n",
       "2  73095539     Богач Евгений Александрович           Москва   \n",
       "3  72313102                         Рекруто  Санкт-Петербург   \n",
       "4  71681150                   Бизнес-Азимут           Москва   \n",
       "\n",
       "                                             address  \\\n",
       "0                                               None   \n",
       "1                                               None   \n",
       "2  {'city': 'Люберцы', 'street': 'микрорайон Горо...   \n",
       "3  {'city': 'Санкт-Петербург', 'street': 'набереж...   \n",
       "4                                               None   \n",
       "\n",
       "                                       Name currency      From        To  \\\n",
       "0             Backend-разработчик на Python      RUR   60000.0       NaN   \n",
       "1          Python-разработчик (Django, DRF)      RUR   60000.0  220000.0   \n",
       "2                        Программист Python      RUR   60000.0  100000.0   \n",
       "3  Intern / Junior Python backend developer      RUR       NaN   60000.0   \n",
       "4       Python-разработчик (Middle+/Senior)      RUR  320000.0  350000.0   \n",
       "\n",
       "           Experience          Schedule  \\\n",
       "0  От 1 года до 3 лет  Удаленная работа   \n",
       "1       От 3 до 6 лет  Удаленная работа   \n",
       "2  От 1 года до 3 лет       Полный день   \n",
       "3           Нет опыта     Гибкий график   \n",
       "4       От 3 до 6 лет  Удаленная работа   \n",
       "\n",
       "                                                Keys  \\\n",
       "0  [Python, HTML, CSS, Bootstrap, MySQL, Git, Fla...   \n",
       "1  [Python, Django Framework, PostgreSQL, SQL, CS...   \n",
       "2  [Python, SQL, Linux, PostgreSQL, Git, ООП, NoSQL]   \n",
       "3  [Python, Celery, Docker, JavaScript, RabbitMQ,...   \n",
       "4                 [Python, Hadoop, Spark, Hive, SQL]   \n",
       "\n",
       "                                         Description  \n",
       "0  — Вы хотите принять участие в реализации проек...  \n",
       "1  Привет! Мы, студия fabrique, ищем классного ju...  \n",
       "2  Требуется:программист в отдел разработки, плат...  \n",
       "3  Python был, есть и будет, и у вас появилась ре...  \n",
       "4  Наша компания специализируется на аутсорсинге ...  "
      ]
     },
     "execution_count": 10,
     "metadata": {},
     "output_type": "execute_result"
    }
   ],
   "source": [
    "df.head()"
   ]
  },
  {
   "cell_type": "code",
   "execution_count": 11,
   "metadata": {},
   "outputs": [
    {
     "data": {
      "text/plain": [
       "(2000, 12)"
      ]
     },
     "metadata": {},
     "output_type": "display_data"
    },
    {
     "name": "stdout",
     "output_type": "stream",
     "text": [
      "<class 'pandas.core.frame.DataFrame'>\n",
      "RangeIndex: 2000 entries, 0 to 1999\n",
      "Data columns (total 12 columns):\n",
      " #   Column       Non-Null Count  Dtype  \n",
      "---  ------       --------------  -----  \n",
      " 0   Ids          2000 non-null   object \n",
      " 1   Employer     2000 non-null   object \n",
      " 2   area         2000 non-null   object \n",
      " 3   address      839 non-null    object \n",
      " 4   Name         2000 non-null   object \n",
      " 5   currency     653 non-null    object \n",
      " 6   From         542 non-null    float64\n",
      " 7   To           437 non-null    float64\n",
      " 8   Experience   2000 non-null   object \n",
      " 9   Schedule     2000 non-null   object \n",
      " 10  Keys         2000 non-null   object \n",
      " 11  Description  2000 non-null   object \n",
      "dtypes: float64(2), object(10)\n",
      "memory usage: 187.6+ KB\n"
     ]
    },
    {
     "data": {
      "text/plain": [
       "None"
      ]
     },
     "metadata": {},
     "output_type": "display_data"
    }
   ],
   "source": [
    "display(df.shape)\n",
    "display(df.info())"
   ]
  },
  {
   "cell_type": "code",
   "execution_count": 12,
   "metadata": {},
   "outputs": [
    {
     "data": {
      "text/plain": [
       "To             0.7815\n",
       "From           0.7290\n",
       "currency       0.6735\n",
       "address        0.5805\n",
       "Ids            0.0000\n",
       "Employer       0.0000\n",
       "area           0.0000\n",
       "Name           0.0000\n",
       "Experience     0.0000\n",
       "Schedule       0.0000\n",
       "Keys           0.0000\n",
       "Description    0.0000\n",
       "dtype: float64"
      ]
     },
     "execution_count": 12,
     "metadata": {},
     "output_type": "execute_result"
    }
   ],
   "source": [
    "df.isna().mean().sort_values(ascending = False)"
   ]
  },
  {
   "cell_type": "code",
   "execution_count": 13,
   "metadata": {},
   "outputs": [
    {
     "name": "stdout",
     "output_type": "stream",
     "text": [
      "Количество вакансий: 2000\n"
     ]
    }
   ],
   "source": [
    "print('Количество вакансий: {}'.format(df['Ids'].count()))"
   ]
  },
  {
   "cell_type": "markdown",
   "metadata": {},
   "source": [
    "## Формируем json"
   ]
  },
  {
   "cell_type": "code",
   "execution_count": 14,
   "metadata": {},
   "outputs": [],
   "source": [
    "df['salary'] = 'От '+ df['From'].astype(str)+ ' до '+ df['To'].astype(str) +' '+ df['currency']"
   ]
  },
  {
   "cell_type": "code",
   "execution_count": 15,
   "metadata": {},
   "outputs": [
    {
     "data": {
      "text/plain": [
       "От 200000.0 до nan RUR         25\n",
       "От 150000.0 до nan RUR         22\n",
       "От 100000.0 до 180000.0 RUR    17\n",
       "От 100000.0 до nan RUR         16\n",
       "От 2500.0 до 3500.0 USD        14\n",
       "                               ..\n",
       "От 25000.0 до nan RUR           1\n",
       "От 200000.0 до 300000.0 RUR     1\n",
       "От 55000.0 до 200000.0 RUR      1\n",
       "От 130000.0 до 200000.0 RUR     1\n",
       "От 1200.0 до 1600.0 USD         1\n",
       "Name: salary, Length: 274, dtype: int64"
      ]
     },
     "execution_count": 15,
     "metadata": {},
     "output_type": "execute_result"
    }
   ],
   "source": [
    "df['salary'].value_counts()"
   ]
  },
  {
   "cell_type": "code",
   "execution_count": 16,
   "metadata": {},
   "outputs": [],
   "source": [
    "df.rename(columns={\"Name\":\"title\",\"Experience\":\"work experience\",\"area\":\"region\"},inplace = True)"
   ]
  },
  {
   "cell_type": "code",
   "execution_count": 17,
   "metadata": {},
   "outputs": [],
   "source": [
    "cols = [\n",
    "    'title',\n",
    "    'work experience',\n",
    "    'salary',\n",
    "    'region',\n",
    "]"
   ]
  },
  {
   "cell_type": "code",
   "execution_count": 18,
   "metadata": {},
   "outputs": [
    {
     "data": {
      "text/html": [
       "<div>\n",
       "<style scoped>\n",
       "    .dataframe tbody tr th:only-of-type {\n",
       "        vertical-align: middle;\n",
       "    }\n",
       "\n",
       "    .dataframe tbody tr th {\n",
       "        vertical-align: top;\n",
       "    }\n",
       "\n",
       "    .dataframe thead th {\n",
       "        text-align: right;\n",
       "    }\n",
       "</style>\n",
       "<table border=\"1\" class=\"dataframe\">\n",
       "  <thead>\n",
       "    <tr style=\"text-align: right;\">\n",
       "      <th></th>\n",
       "      <th>title</th>\n",
       "      <th>work experience</th>\n",
       "      <th>salary</th>\n",
       "      <th>region</th>\n",
       "    </tr>\n",
       "  </thead>\n",
       "  <tbody>\n",
       "    <tr>\n",
       "      <th>0</th>\n",
       "      <td>Backend-разработчик на Python</td>\n",
       "      <td>От 1 года до 3 лет</td>\n",
       "      <td>От 60000.0 до nan RUR</td>\n",
       "      <td>Екатеринбург</td>\n",
       "    </tr>\n",
       "    <tr>\n",
       "      <th>1</th>\n",
       "      <td>Python-разработчик (Django, DRF)</td>\n",
       "      <td>От 3 до 6 лет</td>\n",
       "      <td>От 60000.0 до 220000.0 RUR</td>\n",
       "      <td>Москва</td>\n",
       "    </tr>\n",
       "    <tr>\n",
       "      <th>2</th>\n",
       "      <td>Программист Python</td>\n",
       "      <td>От 1 года до 3 лет</td>\n",
       "      <td>От 60000.0 до 100000.0 RUR</td>\n",
       "      <td>Москва</td>\n",
       "    </tr>\n",
       "    <tr>\n",
       "      <th>3</th>\n",
       "      <td>Intern / Junior Python backend developer</td>\n",
       "      <td>Нет опыта</td>\n",
       "      <td>От nan до 60000.0 RUR</td>\n",
       "      <td>Санкт-Петербург</td>\n",
       "    </tr>\n",
       "    <tr>\n",
       "      <th>4</th>\n",
       "      <td>Python-разработчик (Middle+/Senior)</td>\n",
       "      <td>От 3 до 6 лет</td>\n",
       "      <td>От 320000.0 до 350000.0 RUR</td>\n",
       "      <td>Москва</td>\n",
       "    </tr>\n",
       "    <tr>\n",
       "      <th>...</th>\n",
       "      <td>...</td>\n",
       "      <td>...</td>\n",
       "      <td>...</td>\n",
       "      <td>...</td>\n",
       "    </tr>\n",
       "    <tr>\n",
       "      <th>1995</th>\n",
       "      <td>Программист</td>\n",
       "      <td>От 1 года до 3 лет</td>\n",
       "      <td>NaN</td>\n",
       "      <td>Екатеринбург</td>\n",
       "    </tr>\n",
       "    <tr>\n",
       "      <th>1996</th>\n",
       "      <td>Программист (Bitrix)</td>\n",
       "      <td>От 1 года до 3 лет</td>\n",
       "      <td>NaN</td>\n",
       "      <td>Москва</td>\n",
       "    </tr>\n",
       "    <tr>\n",
       "      <th>1997</th>\n",
       "      <td>Ведущий разработчик чат-бота</td>\n",
       "      <td>От 3 до 6 лет</td>\n",
       "      <td>NaN</td>\n",
       "      <td>Москва</td>\n",
       "    </tr>\n",
       "    <tr>\n",
       "      <th>1998</th>\n",
       "      <td>Фронтенд разработчик</td>\n",
       "      <td>От 1 года до 3 лет</td>\n",
       "      <td>От 100000.0 до nan RUR</td>\n",
       "      <td>Краснодар</td>\n",
       "    </tr>\n",
       "    <tr>\n",
       "      <th>1999</th>\n",
       "      <td>Менеджер по проектам</td>\n",
       "      <td>От 1 года до 3 лет</td>\n",
       "      <td>От 1200.0 до 1600.0 USD</td>\n",
       "      <td>Алматы</td>\n",
       "    </tr>\n",
       "  </tbody>\n",
       "</table>\n",
       "<p>2000 rows × 4 columns</p>\n",
       "</div>"
      ],
      "text/plain": [
       "                                         title     work experience  \\\n",
       "0                Backend-разработчик на Python  От 1 года до 3 лет   \n",
       "1             Python-разработчик (Django, DRF)       От 3 до 6 лет   \n",
       "2                           Программист Python  От 1 года до 3 лет   \n",
       "3     Intern / Junior Python backend developer           Нет опыта   \n",
       "4          Python-разработчик (Middle+/Senior)       От 3 до 6 лет   \n",
       "...                                        ...                 ...   \n",
       "1995                               Программист  От 1 года до 3 лет   \n",
       "1996                      Программист (Bitrix)  От 1 года до 3 лет   \n",
       "1997              Ведущий разработчик чат-бота       От 3 до 6 лет   \n",
       "1998                      Фронтенд разработчик  От 1 года до 3 лет   \n",
       "1999                      Менеджер по проектам  От 1 года до 3 лет   \n",
       "\n",
       "                           salary           region  \n",
       "0           От 60000.0 до nan RUR     Екатеринбург  \n",
       "1      От 60000.0 до 220000.0 RUR           Москва  \n",
       "2      От 60000.0 до 100000.0 RUR           Москва  \n",
       "3           От nan до 60000.0 RUR  Санкт-Петербург  \n",
       "4     От 320000.0 до 350000.0 RUR           Москва  \n",
       "...                           ...              ...  \n",
       "1995                          NaN     Екатеринбург  \n",
       "1996                          NaN           Москва  \n",
       "1997                          NaN           Москва  \n",
       "1998       От 100000.0 до nan RUR        Краснодар  \n",
       "1999      От 1200.0 до 1600.0 USD           Алматы  \n",
       "\n",
       "[2000 rows x 4 columns]"
      ]
     },
     "execution_count": 18,
     "metadata": {},
     "output_type": "execute_result"
    }
   ],
   "source": [
    "df[cols]"
   ]
  },
  {
   "cell_type": "code",
   "execution_count": 19,
   "metadata": {},
   "outputs": [],
   "source": [
    "result = df[cols].to_json(orient=\"table\",force_ascii=False,path_or_buf=r'hh_python.json',index=False)"
   ]
  },
  {
   "cell_type": "markdown",
   "metadata": {},
   "source": [
    "# 2"
   ]
  },
  {
   "cell_type": "code",
   "execution_count": 20,
   "metadata": {},
   "outputs": [],
   "source": [
    "def palindrom(s: str):\n",
    "    s = s.replace(' ','')\n",
    "    print(s)\n",
    "    l = len(s)\n",
    "    s_out = s[::-1] \n",
    "    print(s_out)\n",
    "    if s_out == s:\n",
    "        return True\n",
    "    else:\n",
    "        return False\n",
    "        "
   ]
  },
  {
   "cell_type": "code",
   "execution_count": 21,
   "metadata": {},
   "outputs": [
    {
     "name": "stdout",
     "output_type": "stream",
     "text": [
      "tacocat\n",
      "tacocat\n",
      "True\n",
      "rotator\n",
      "rotator\n",
      "True\n",
      "blackcat\n",
      "tackcalb\n",
      "False\n"
     ]
    }
   ],
   "source": [
    "check = ['taco cat','rotator','black cat']\n",
    "for c in check:\n",
    "    print(palindrom(c))"
   ]
  },
  {
   "cell_type": "markdown",
   "metadata": {},
   "source": [
    "# 3"
   ]
  },
  {
   "cell_type": "code",
   "execution_count": 22,
   "metadata": {},
   "outputs": [],
   "source": [
    "def converter(n):\n",
    "    result = ''\n",
    "    for arabic, roman in zip((1000, 900, 500, 400, 100, 90, 50, 40, 10, 9, 5, 4, 1),\n",
    "                             'M     CM   D    CD   C    XC  L   XL  X   IX V  IV I'.split()):\n",
    "        result += n // arabic * roman\n",
    "        n %= arabic\n",
    "        #print('({}) {} => {}'.format(roman, n, result))\n",
    "    return result"
   ]
  },
  {
   "cell_type": "code",
   "execution_count": 23,
   "metadata": {},
   "outputs": [
    {
     "name": "stdout",
     "output_type": "stream",
     "text": [
      "III\n",
      "IX\n",
      "MCMXLV\n"
     ]
    }
   ],
   "source": [
    "check = [3,9,1945]\n",
    "for c in check:\n",
    "    print(converter(c))"
   ]
  },
  {
   "cell_type": "markdown",
   "metadata": {},
   "source": [
    "# 4"
   ]
  },
  {
   "cell_type": "code",
   "execution_count": 34,
   "metadata": {},
   "outputs": [
    {
     "name": "stdout",
     "output_type": "stream",
     "text": [
      "True\n",
      "False\n",
      "False\n",
      "False\n",
      "False\n",
      "False\n",
      "True\n",
      "False\n"
     ]
    }
   ],
   "source": [
    "def checkio(in_str: str):\n",
    "    open_s = ['[','(','{']\n",
    "    close_s = [']',')','}']\n",
    "    i_cls = 0\n",
    "    i_opn = 0\n",
    "    stack= []\n",
    "    for i in in_str:\n",
    "        if i in open_s:\n",
    "            stack.append(i)\n",
    "            i_opn +=1\n",
    "        elif i in close_s:\n",
    "            pos = close_s.index(i)\n",
    "            if ((len(stack) > 0) and (open_s[pos] == stack[len(stack)-1])):\n",
    "                stack.pop()\n",
    "                i_cls +=1\n",
    "            else:\n",
    "                return False\n",
    "    if i_cls != i_opn:\n",
    "        return False   \n",
    "    if len(stack) == 0:\n",
    "        return True\n",
    "    \n",
    "print (checkio(\"[{}({})]\")) \n",
    "print (checkio(\"{]\")) \n",
    "print (checkio(\"{{}\"))\n",
    "print (checkio(\"{\"))\n",
    "print (checkio(\"}{\"))\n",
    "print (checkio(\"{}{\"))\n",
    "print (checkio(\"((){})\"))\n",
    "print (checkio(\"((){)}\"))"
   ]
  },
  {
   "cell_type": "markdown",
   "metadata": {},
   "source": [
    "# 5"
   ]
  },
  {
   "cell_type": "code",
   "execution_count": 57,
   "metadata": {},
   "outputs": [],
   "source": [
    "def multiplier(x1: str, x2: str):\n",
    "    a1 = int(x1,2)\n",
    "    a2 = int(x1,2)\n",
    "    return str(bin(a1*a2))"
   ]
  },
  {
   "cell_type": "code",
   "execution_count": 58,
   "metadata": {},
   "outputs": [
    {
     "data": {
      "text/plain": [
       "'0b110001'"
      ]
     },
     "execution_count": 58,
     "metadata": {},
     "output_type": "execute_result"
    }
   ],
   "source": [
    "multiplier('111','101')"
   ]
  }
 ],
 "metadata": {
  "kernelspec": {
   "display_name": "Python 3",
   "language": "python",
   "name": "python3"
  },
  "language_info": {
   "codemirror_mode": {
    "name": "ipython",
    "version": 3
   },
   "file_extension": ".py",
   "mimetype": "text/x-python",
   "name": "python",
   "nbconvert_exporter": "python",
   "pygments_lexer": "ipython3",
   "version": "3.8.5"
  }
 },
 "nbformat": 4,
 "nbformat_minor": 4
}
